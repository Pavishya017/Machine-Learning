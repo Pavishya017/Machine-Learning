{
 "cells": [
  {
   "cell_type": "code",
   "execution_count": 1,
   "id": "f9f6dae5",
   "metadata": {},
   "outputs": [
    {
     "name": "stdout",
     "output_type": "stream",
     "text": [
      "[1 2 3 4 5]\n"
     ]
    }
   ],
   "source": [
    "import numpy as np \n",
    "arr = np.array([1, 2, 3, 4, 5]) \n",
    "print(arr)"
   ]
  },
  {
   "cell_type": "code",
   "execution_count": 3,
   "id": "dca52af1",
   "metadata": {},
   "outputs": [],
   "source": [
    " \n",
    "import sys "
   ]
  },
  {
   "cell_type": "code",
   "execution_count": 4,
   "id": "fa9ebdb2",
   "metadata": {},
   "outputs": [
    {
     "name": "stdout",
     "output_type": "stream",
     "text": [
      "Size of each element of list in bytes:  48\n"
     ]
    }
   ],
   "source": [
    "S= range(1000)\n",
    "print(\"Size of each element of list in bytes: \", sys.getsizeof(S))"
   ]
  },
  {
   "cell_type": "code",
   "execution_count": 5,
   "id": "999d7c79",
   "metadata": {},
   "outputs": [
    {
     "name": "stdout",
     "output_type": "stream",
     "text": [
      "Size of the whole list in bytes:  48000\n"
     ]
    }
   ],
   "source": [
    "print(\"Size of the whole list in bytes: \" , sys.getsizeof(S)*len (S))"
   ]
  },
  {
   "cell_type": "code",
   "execution_count": 6,
   "id": "0b438747",
   "metadata": {},
   "outputs": [],
   "source": [
    "D= np.arange(1000)"
   ]
  },
  {
   "cell_type": "code",
   "execution_count": 7,
   "id": "ba345c20",
   "metadata": {},
   "outputs": [
    {
     "name": "stdout",
     "output_type": "stream",
     "text": [
      "Size of each element of the Numpy array in bytes:  4\n"
     ]
    }
   ],
   "source": [
    "print(\"Size of each element of the Numpy array in bytes: \",D.itemsize)"
   ]
  },
  {
   "cell_type": "code",
   "execution_count": 8,
   "id": "3edc7899",
   "metadata": {},
   "outputs": [
    {
     "name": "stdout",
     "output_type": "stream",
     "text": [
      "Size of the whole Numpy array in bytes:  4000\n"
     ]
    }
   ],
   "source": [
    "print(\"Size of the whole Numpy array in bytes: \",D.size*D.itemsize) \n"
   ]
  },
  {
   "cell_type": "code",
   "execution_count": 9,
   "id": "736c5371",
   "metadata": {},
   "outputs": [
    {
     "name": "stdout",
     "output_type": "stream",
     "text": [
      "42\n"
     ]
    }
   ],
   "source": [
    "arr = np.array(42) \n",
    "print(arr)"
   ]
  },
  {
   "cell_type": "code",
   "execution_count": 10,
   "id": "e0b62506",
   "metadata": {},
   "outputs": [
    {
     "name": "stdout",
     "output_type": "stream",
     "text": [
      "[[1 2 3]\n",
      " [4 5 6]]\n"
     ]
    }
   ],
   "source": [
    "arr = np.array([[1, 2, 3], [4, 5, 6]]) \n",
    "print(arr)"
   ]
  },
  {
   "cell_type": "code",
   "execution_count": 11,
   "id": "a1d4caca",
   "metadata": {},
   "outputs": [
    {
     "name": "stdout",
     "output_type": "stream",
     "text": [
      "[[[1 2 3]\n",
      "  [4 5 6]]\n",
      "\n",
      " [[1 2 3]\n",
      "  [4 5 6]]]\n"
     ]
    }
   ],
   "source": [
    "arr = np.array([[[1, 2, 3], [4, 5, 6]], [[1, 2, 3], [4, 5, 6]]]) \n",
    "print(arr) "
   ]
  },
  {
   "cell_type": "code",
   "execution_count": 12,
   "id": "2fe46368",
   "metadata": {},
   "outputs": [
    {
     "name": "stdout",
     "output_type": "stream",
     "text": [
      "[[0. 0.]\n",
      " [0. 0.]\n",
      " [0. 0.]\n",
      " [0. 0.]\n",
      " [0. 0.]]\n"
     ]
    }
   ],
   "source": [
    "zeros_arr = np.zeros((5,2)) \n",
    "eros_arr = np.zeros(5) \n",
    "print(zeros_arr)"
   ]
  },
  {
   "cell_type": "code",
   "execution_count": 13,
   "id": "de81350f",
   "metadata": {},
   "outputs": [
    {
     "name": "stdout",
     "output_type": "stream",
     "text": [
      "[[0. 0. 0.]\n",
      " [0. 0. 0.]]\n"
     ]
    }
   ],
   "source": [
    "zeros_arr = np.zeros((2,3)) \n",
    "print(zeros_arr) "
   ]
  },
  {
   "cell_type": "code",
   "execution_count": 14,
   "id": "90acd461",
   "metadata": {},
   "outputs": [
    {
     "name": "stdout",
     "output_type": "stream",
     "text": [
      "Data type of the array:  float64\n"
     ]
    }
   ],
   "source": [
    "print(\"Data type of the array: \", zeros_arr.dtype)"
   ]
  },
  {
   "cell_type": "code",
   "execution_count": 15,
   "id": "f0376750",
   "metadata": {},
   "outputs": [
    {
     "name": "stdout",
     "output_type": "stream",
     "text": [
      "\n",
      "Array of zeros with integer elements: \n",
      " [[0 0 0]\n",
      " [0 0 0]\n",
      " [0 0 0]]\n"
     ]
    }
   ],
   "source": [
    "zeros_arr_int = np.zeros((3,3), dtype=np.int16) \n",
    "print(\"\\nArray of zeros with integer elements: \\n\", zeros_arr_int)"
   ]
  },
  {
   "cell_type": "code",
   "execution_count": 16,
   "id": "311c24bb",
   "metadata": {},
   "outputs": [
    {
     "name": "stdout",
     "output_type": "stream",
     "text": [
      "[1. 1. 1. 1. 1. 1.]\n"
     ]
    }
   ],
   "source": [
    "ones_arr = np.ones(6) \n",
    "print(ones_arr) "
   ]
  },
  {
   "cell_type": "code",
   "execution_count": 17,
   "id": "907c9e99",
   "metadata": {},
   "outputs": [
    {
     "name": "stdout",
     "output_type": "stream",
     "text": [
      "\n",
      "Data type of the array:  float64\n"
     ]
    }
   ],
   "source": [
    "print(\"\\nData type of the array: \", ones_arr.dtype)"
   ]
  },
  {
   "cell_type": "code",
   "execution_count": 18,
   "id": "af800c7f",
   "metadata": {},
   "outputs": [
    {
     "name": "stdout",
     "output_type": "stream",
     "text": [
      "[[1. 1.]\n",
      " [1. 1.]\n",
      " [1. 1.]]\n"
     ]
    }
   ],
   "source": [
    "empty_arr = np.empty((3,2)) \n",
    "print(empty_arr) \n"
   ]
  },
  {
   "cell_type": "code",
   "execution_count": 19,
   "id": "d401e00d",
   "metadata": {},
   "outputs": [
    {
     "name": "stdout",
     "output_type": "stream",
     "text": [
      "\n",
      "Data type of the array:  float64\n"
     ]
    }
   ],
   "source": [
    "print(\"\\nData type of the array: \", empty_arr.dtype)"
   ]
  },
  {
   "cell_type": "code",
   "execution_count": 20,
   "id": "b04bd9d9",
   "metadata": {},
   "outputs": [
    {
     "name": "stdout",
     "output_type": "stream",
     "text": [
      "[[1. 0. 0.]\n",
      " [0. 1. 0.]\n",
      " [0. 0. 1.]]\n"
     ]
    }
   ],
   "source": [
    "identity_matrix = np.eye (3) \n",
    "print(identity_matrix) "
   ]
  },
  {
   "cell_type": "code",
   "execution_count": 21,
   "id": "df894f39",
   "metadata": {},
   "outputs": [
    {
     "name": "stdout",
     "output_type": "stream",
     "text": [
      "\n",
      " [[1. 0. 0. 0.]\n",
      " [0. 1. 0. 0.]\n",
      " [0. 0. 1. 0.]\n",
      " [0. 0. 0. 1.]]\n"
     ]
    }
   ],
   "source": [
    "identity_matrix = np. eye (4) \n",
    "print(\"\\n\", identity_matrix)"
   ]
  },
  {
   "cell_type": "code",
   "execution_count": 22,
   "id": "84df7ec7",
   "metadata": {},
   "outputs": [
    {
     "name": "stdout",
     "output_type": "stream",
     "text": [
      "float64\n",
      "int32\n"
     ]
    }
   ],
   "source": [
    "arr1 = np.array([1, 2, 3], dtype=np. float64) \n",
    "arr2 = np.array([1, 2, 3], dtype=np.int32) \n",
    "print(arr1.dtype) \n",
    "print(arr2.dtype)"
   ]
  },
  {
   "cell_type": "code",
   "execution_count": 23,
   "id": "f79823f6",
   "metadata": {},
   "outputs": [
    {
     "name": "stdout",
     "output_type": "stream",
     "text": [
      "Before converting:  [1 2 3] int32\n",
      "After converting:  [1. 2. 3.] float32\n"
     ]
    }
   ],
   "source": [
    "arr = np.array([1, 2, 3]) \n",
    "print(\"Before converting: \", arr, arr.dtype) \n",
    "new_arr = arr.astype('f') \n",
    "print(\"After converting: \", new_arr, new_arr.dtype) \n"
   ]
  },
  {
   "cell_type": "code",
   "execution_count": 24,
   "id": "752032ee",
   "metadata": {},
   "outputs": [
    {
     "name": "stdout",
     "output_type": "stream",
     "text": [
      "array 1\n",
      " [0 1 2 3 4 5 6 7 8 9] int32\n",
      "Array 2 \n",
      " [ 0.07827518 -0.13589065  0.14644493  0.90749449  1.29502343 -0.152261\n",
      " -0.17592324 -0.92168674 -0.61357431  0.87221864] float64\n",
      "New Array \n",
      " [0. 1. 2. 3. 4. 5. 6. 7. 8. 9.] float64\n"
     ]
    }
   ],
   "source": [
    "arr1 = np.arange(10) \n",
    "arr2 = np.random. randn (10) \n",
    "print(\"array 1\\n\", arr1, arr1.dtype) \n",
    "print(\"Array 2 \\n\", arr2, arr2.dtype) \n",
    "new_arr = arr1.astype (arr2.dtype) \n",
    "arr1.astype(arr2.dtype) \n",
    "print(\"New Array \\n\", new_arr, new_arr.dtype) \n"
   ]
  },
  {
   "cell_type": "code",
   "execution_count": 25,
   "id": "909e2aac",
   "metadata": {},
   "outputs": [
    {
     "name": "stdout",
     "output_type": "stream",
     "text": [
      "['hello' 'world' 'numpy']\n"
     ]
    },
    {
     "data": {
      "text/plain": [
       "['helloworldnumpy']"
      ]
     },
     "execution_count": 25,
     "metadata": {},
     "output_type": "execute_result"
    }
   ],
   "source": [
    "str_arr = np.array(['hello', 'world', 'numpy']) \n",
    "print(str_arr) \n",
    "['hello' 'world' 'numpy'] \n"
   ]
  },
  {
   "cell_type": "code",
   "execution_count": 28,
   "id": "05cb6174",
   "metadata": {},
   "outputs": [
    {
     "name": "stdout",
     "output_type": "stream",
     "text": [
      "[ 6.  8. 10. 12.]\n",
      "[1.0000e+00 6.4000e+01 2.1870e+03 6.5536e+04]\n"
     ]
    }
   ],
   "source": [
    "import numpy as np \n",
    "a = np.array([1., 2., 3., 4.]) \n",
    "b = np.array([5., 6., 7., 8.]) \n",
    "print(a + b)  \n",
    "print(a ** b) "
   ]
  },
  {
   "cell_type": "code",
   "execution_count": 30,
   "id": "d21e4919",
   "metadata": {},
   "outputs": [
    {
     "name": "stdout",
     "output_type": "stream",
     "text": [
      "[[ 0  1  2]\n",
      " [ 3  4  5]\n",
      " [ 6  7  8]\n",
      " [ 9 10 11]]\n",
      "\n",
      " [[ 0  4  8]\n",
      " [ 1  5  9]\n",
      " [ 2  6 10]\n",
      " [ 3  7 11]]\n"
     ]
    }
   ],
   "source": [
    "import numpy as np \n",
    "arr = np.arange(12) \n",
    "newarr = arr.reshape(4, 3) \n",
    "print(newarr) \n",
    "newarr = arr.reshape((4, 3), order='F') \n",
    "print(\"\\n\", newarr)"
   ]
  },
  {
   "cell_type": "code",
   "execution_count": 31,
   "id": "af371cf4",
   "metadata": {},
   "outputs": [
    {
     "name": "stdout",
     "output_type": "stream",
     "text": [
      "[[ 1  2  3  4  9 10]\n",
      " [ 5  6  7  8 11 12]]\n",
      "\n",
      " [[[ 1  2]\n",
      "  [ 3  4]]\n",
      "\n",
      " [[ 9 10]\n",
      "  [ 5  6]]\n",
      "\n",
      " [[ 7  8]\n",
      "  [11 12]]]\n"
     ]
    }
   ],
   "source": [
    "import numpy as np \n",
    "arr = np.array([[1, 2, 3, 4,9,10], [5, 6, 7, 8,11,12]]) \n",
    "print(arr) \n",
    "newarr = arr. reshape (3, 2, 2) \n",
    "print(\"\\n\", newarr) \n"
   ]
  },
  {
   "cell_type": "code",
   "execution_count": 35,
   "id": "4d539f4c",
   "metadata": {},
   "outputs": [
    {
     "name": "stdout",
     "output_type": "stream",
     "text": [
      "Greater than: \n",
      " [[False  True]\n",
      " [False False]]\n",
      "\n",
      "Less than: \n",
      " [[ True False]\n",
      " [False  True]]\n",
      "\n",
      "Equal to: \n",
      " [[False False]\n",
      " [ True False]]\n"
     ]
    }
   ],
   "source": [
    "arr1 = np.array([[1, 2], [3, 4]])\n",
    "arr2 = np.array([[2, 1], [3, 5]])\n",
    "greater_than = arr1 > arr2 \n",
    "less_than = arr1 < arr2 \n",
    "equal_to = arr1 == arr2 \n",
    "print(\"Greater than: \\n\", greater_than)\n",
    "print(\"\\nLess than: \\n\", less_than)\n",
    "print(\"\\nEqual to: \\n\", equal_to) \n"
   ]
  },
  {
   "cell_type": "code",
   "execution_count": 41,
   "id": "2c2bf293",
   "metadata": {},
   "outputs": [
    {
     "name": "stdout",
     "output_type": "stream",
     "text": [
      "x=  [0 1 2 3 4 5 6 7 8 9]\n",
      "\n",
      "Array-wise comparison 1: True\n",
      "Array-wise comparison 2: False\n"
     ]
    }
   ],
   "source": [
    "\n",
    "arr3 = np.array([1, 2, 3]) \n",
    "arr4 = np.array([1, 2, 3]) \n",
    "arr5 = np.array([1, 2, 4]) \n",
    "result2 = np.array_equal(arr3, arr5)\n",
    "result1= np.array_equal(arr3, arr4) \n",
    "print(\"\\nArray-wise comparison 1:\", result1) \n",
    "print(\"Array-wise comparison 2:\", result2)"
   ]
  },
  {
   "cell_type": "code",
   "execution_count": 42,
   "id": "4a0b1aaf",
   "metadata": {},
   "outputs": [
    {
     "name": "stdout",
     "output_type": "stream",
     "text": [
      "x=  [0 1 2 3 4 5 6 7 8 9]\n",
      "\n",
      " x[:5]=  [0 1 2 3 4]\n",
      "\n",
      " x[5:]=  [5 6 7 8 9]\n",
      "\n",
      " x[4:7]=  [4 5 6]\n",
      "\n",
      " x[::2]=  [0 2 4 6 8]\n",
      "\n",
      " x[1::2]=  [1 3 5 7 9]\n",
      "\n",
      " x[::-1]=  [9 8 7 6 5 4 3 2 1 0]\n",
      "\n",
      " x[5::-2]=  [5 3 1]\n"
     ]
    }
   ],
   "source": [
    "x = np.arange(10) \n",
    "print(\"x= \",x)\n",
    "print(\"\\n x[:5]= \",x[:5])\n",
    "print(\"\\n x[5:]= \",x[5:])\n",
    "print(\"\\n x[4:7]= \",x[4:7])\n",
    "print(\"\\n x[::2]= \",x[::2])\n",
    "print(\"\\n x[1::2]= \",x[1::2])\n",
    "print(\"\\n x[::-1]= \",x[::-1])\n",
    "print(\"\\n x[5::-2]= \",x[5::-2])"
   ]
  },
  {
   "cell_type": "code",
   "execution_count": 43,
   "id": "3938f6ec",
   "metadata": {},
   "outputs": [
    {
     "name": "stdout",
     "output_type": "stream",
     "text": [
      "[0 1 2 3 4 5 6 7 8 9]\n",
      "\n",
      " After broadcasting1 [0 1 2 3 4 2 6 7 8 9]\n"
     ]
    }
   ],
   "source": [
    "x = np.arange(10) \n",
    "print(x) \n",
    "x[5] = 2 \n",
    "print(\"\\n After broadcasting1\",x) "
   ]
  },
  {
   "cell_type": "code",
   "execution_count": null,
   "id": "d21762bd",
   "metadata": {},
   "outputs": [],
   "source": []
  }
 ],
 "metadata": {
  "kernelspec": {
   "display_name": "Python 3 (ipykernel)",
   "language": "python",
   "name": "python3"
  },
  "language_info": {
   "codemirror_mode": {
    "name": "ipython",
    "version": 3
   },
   "file_extension": ".py",
   "mimetype": "text/x-python",
   "name": "python",
   "nbconvert_exporter": "python",
   "pygments_lexer": "ipython3",
   "version": "3.9.12"
  }
 },
 "nbformat": 4,
 "nbformat_minor": 5
}
